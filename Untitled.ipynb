{
 "cells": [
  {
   "cell_type": "code",
   "execution_count": 1,
   "id": "f27200a5-a9c5-49f4-a3d9-bf33971b2e5d",
   "metadata": {},
   "outputs": [],
   "source": [
    "from pyspark.sql import SparkSession\n",
    "from pyspark.sql.functions import col, when\n",
    "spark = SparkSession.builder \\\n",
    "    .appName(\"CSV Reader\") \\\n",
    "    .getOrCreate()"
   ]
  },
  {
   "cell_type": "code",
   "execution_count": 2,
   "id": "d1204771-1923-42d6-bc51-672c479413a8",
   "metadata": {},
   "outputs": [
    {
     "name": "stdout",
     "output_type": "stream",
     "text": [
      "+----+---+---+-----+-----+-----+------+---------+\n",
      "|YEAR| MO| DY|  T2M|WS50M|   TS| WD50M|ALLSKY_KT|\n",
      "+----+---+---+-----+-----+-----+------+---------+\n",
      "|2003|  1|  1|24.12| 3.21|24.65|130.81|     0.62|\n",
      "|2003|  1|  2|24.12| 5.09|24.43|  82.0|     0.63|\n",
      "|2003|  1|  3| 23.9| 6.34|24.47| 65.69|     0.57|\n",
      "|2003|  1|  4|24.52| 6.48|25.08| 47.88|     0.59|\n",
      "|2003|  1|  5|24.65|  6.7|25.18|  47.5|     0.64|\n",
      "|2003|  1|  6|24.48| 6.55|25.03| 50.88|     0.62|\n",
      "|2003|  1|  7|23.74| 5.98|24.33| 49.06|     0.64|\n",
      "|2003|  1|  8|24.05| 5.04|24.83| 56.75|     0.64|\n",
      "|2003|  1|  9| 24.4| 5.87|25.23| 53.56|     0.51|\n",
      "|2003|  1| 10|24.41| 6.36|25.16| 55.44|     0.55|\n",
      "|2003|  1| 11|24.06| 5.94|24.91|  51.5|     0.56|\n",
      "|2003|  1| 12|23.68| 6.39|24.28| 44.38|     0.57|\n",
      "|2003|  1| 13|23.92| 6.47|24.58| 46.69|     0.55|\n",
      "|2003|  1| 14|23.82| 6.76|24.07| 42.06|     0.61|\n",
      "|2003|  1| 15|24.11| 7.09|24.75| 47.38|     0.51|\n",
      "|2003|  1| 16|23.88|  7.1|24.66| 39.94|     0.57|\n",
      "|2003|  1| 17|23.33| 7.06|24.12|  44.0|      0.6|\n",
      "|2003|  1| 18|24.33| 7.23|25.26| 39.94|     0.53|\n",
      "|2003|  1| 19| 24.8| 6.73|25.72|  40.5|     0.48|\n",
      "|2003|  1| 20|24.78| 5.61|25.94| 48.06|     0.59|\n",
      "+----+---+---+-----+-----+-----+------+---------+\n",
      "only showing top 20 rows\n",
      "\n"
     ]
    }
   ],
   "source": [
    "df = spark.read.csv(\"unclean_data.csv\", header=True, inferSchema=True)\n",
    "df.show()"
   ]
  },
  {
   "cell_type": "code",
   "execution_count": 3,
   "id": "fc67bc49-a2d8-4adf-98bd-a470395258a9",
   "metadata": {},
   "outputs": [
    {
     "name": "stdout",
     "output_type": "stream",
     "text": [
      "+----+---+---+-----+-----+-----+------+---------+\n",
      "|YEAR| MO| DY|  T2M|WS50M|   TS| WD50M|ALLSKY_KT|\n",
      "+----+---+---+-----+-----+-----+------+---------+\n",
      "|2003|  1|  1|24.12| 3.21|24.65|130.81|     0.62|\n",
      "|2003|  1|  2|24.12| 5.09|24.43|  82.0|     0.63|\n",
      "|2003|  1|  3| 23.9| 6.34|24.47| 65.69|     0.57|\n",
      "|2003|  1|  4|24.52| 6.48|25.08| 47.88|     0.59|\n",
      "|2003|  1|  5|24.65|  6.7|25.18|  47.5|     0.64|\n",
      "|2003|  1|  6|24.48| 6.55|25.03| 50.88|     0.62|\n",
      "|2003|  1|  7|23.74| 5.98|24.33| 49.06|     0.64|\n",
      "|2003|  1|  8|24.05| 5.04|24.83| 56.75|     0.64|\n",
      "|2003|  1|  9| 24.4| 5.87|25.23| 53.56|     0.51|\n",
      "|2003|  1| 10|24.41| 6.36|25.16| 55.44|     0.55|\n",
      "|2003|  1| 11|24.06| 5.94|24.91|  51.5|     0.56|\n",
      "|2003|  1| 12|23.68| 6.39|24.28| 44.38|     0.57|\n",
      "|2003|  1| 13|23.92| 6.47|24.58| 46.69|     0.55|\n",
      "|2003|  1| 14|23.82| 6.76|24.07| 42.06|     0.61|\n",
      "|2003|  1| 15|24.11| 7.09|24.75| 47.38|     0.51|\n",
      "|2003|  1| 16|23.88|  7.1|24.66| 39.94|     0.57|\n",
      "|2003|  1| 17|23.33| 7.06|24.12|  44.0|      0.6|\n",
      "|2003|  1| 18|24.33| 7.23|25.26| 39.94|     0.53|\n",
      "|2003|  1| 19| 24.8| 6.73|25.72|  40.5|     0.48|\n",
      "|2003|  1| 20|24.78| 5.61|25.94| 48.06|     0.59|\n",
      "+----+---+---+-----+-----+-----+------+---------+\n",
      "only showing top 20 rows\n",
      "\n",
      "+----+---+---+-----+-----+-----+------+---------+\n",
      "|YEAR| MO| DY|  T2M|WS50M|   TS| WD50M|ALLSKY_KT|\n",
      "+----+---+---+-----+-----+-----+------+---------+\n",
      "|2004|  1|  3|23.34| 6.09|24.01| 36.44|     0.56|\n",
      "|2004|  2| 12|24.93| 6.01|26.83| 47.56|     0.65|\n",
      "|2004|  3| 15| 29.0| 3.55|31.17|121.25|     0.67|\n",
      "|2004|  6|  8| 28.9| 6.09|29.06|254.69|     0.51|\n",
      "|2005|  2| 22|26.99| 4.74|29.14| 134.5|     0.66|\n",
      "|2005|  8|  9|30.33| 4.18|31.21|255.12|      0.3|\n",
      "|2005|  9|  3|28.67| 3.81|29.33|192.38|     0.48|\n",
      "|2005|  9| 16|28.76| 3.81|28.97| 233.5|     0.59|\n",
      "|2005| 10|  3|27.58| 3.34|28.01|204.94|     0.61|\n",
      "|2006|  1| 16|23.97| 3.82| 24.5| 48.69|     0.64|\n",
      "|2006|  3| 22|27.78| 4.73|29.81|169.19|     0.65|\n",
      "|2007|  6|  9| 30.9| 5.78|31.66|203.56|     0.56|\n",
      "|2007|  8|  6|26.52| 8.12|26.66|229.75|     0.33|\n",
      "|2007|  8| 11|28.89| 5.78|28.85|253.81|     0.54|\n",
      "|2007|  8| 31|26.98| 5.44|26.96|246.25|      0.3|\n",
      "|2007|  9|  9|26.74| 4.68|27.05|196.06|     0.62|\n",
      "|2007| 11| 15|23.63| 3.66|23.21|231.81|     0.67|\n",
      "|2007| 12|  5|24.87| 8.34|24.94| 60.56|     0.21|\n",
      "|2008|  3|  3|25.73|  3.7|26.88|103.81|      0.7|\n",
      "|2008|  4|  3|28.26| 4.13|29.47|168.44|     0.64|\n",
      "+----+---+---+-----+-----+-----+------+---------+\n",
      "only showing top 20 rows\n",
      "\n"
     ]
    }
   ],
   "source": [
    "file_path = \"unclean_data.csv\"  # Update with the actual file path\n",
    "data = spark.read.csv(file_path, header=True, inferSchema=True)\n",
    "\n",
    "# Show initial data\n",
    "data.show()\n",
    "\n",
    "# Data cleaning steps\n",
    "\n",
    "# 1. Replace -999 with None for missing values\n",
    "cleaned_data = data.replace(-999, None)\n",
    "\n",
    "# 2. Drop rows with any null values (optional)\n",
    "cleaned_data = cleaned_data.na.drop()\n",
    "\n",
    "# 3. Filter out unrealistic values (e.g., temperature below absolute zero)\n",
    "cleaned_data = cleaned_data.filter((col(\"T2M\") >= -273.15) & (col(\"TS\") >= -273.15))\n",
    "\n",
    "# 4. Remove outliers for wind speed (WS50M) beyond a reasonable range (e.g., > 30 m/s)\n",
    "cleaned_data = cleaned_data.filter(col(\"WS50M\") <= 30)\n",
    "\n",
    "# 5. Filter wind direction (WD50M) to be within valid range (0 to 360 degrees)\n",
    "cleaned_data = cleaned_data.filter((col(\"WD50M\") >= 0) & (col(\"WD50M\") <= 360))\n",
    "\n",
    "# 6. Ensure All Sky Insolation Clearness Index (ALLSKY_KT) is between 0 and 1\n",
    "cleaned_data = cleaned_data.filter((col(\"ALLSKY_KT\") >= 0) & (col(\"ALLSKY_KT\") <= 1))\n",
    "\n",
    "# 7. Remove duplicate rows based on all columns\n",
    "cleaned_data = cleaned_data.dropDuplicates()\n",
    "\n",
    "# 8. Show cleaned data\n",
    "cleaned_data.show()\n",
    "\n",
    "# Save cleaned data to a new CSV file\n",
    "cleaned_data.write.csv(\"path/to/cleaned_data.csv\", header=True)"
   ]
  },
  {
   "cell_type": "code",
   "execution_count": null,
   "id": "20dbe3ae-87d4-43a8-a024-b5d20564c19c",
   "metadata": {},
   "outputs": [],
   "source": []
  }
 ],
 "metadata": {
  "kernelspec": {
   "display_name": "Python 3 (ipykernel)",
   "language": "python",
   "name": "python3"
  },
  "language_info": {
   "codemirror_mode": {
    "name": "ipython",
    "version": 3
   },
   "file_extension": ".py",
   "mimetype": "text/x-python",
   "name": "python",
   "nbconvert_exporter": "python",
   "pygments_lexer": "ipython3",
   "version": "3.11.6"
  }
 },
 "nbformat": 4,
 "nbformat_minor": 5
}
